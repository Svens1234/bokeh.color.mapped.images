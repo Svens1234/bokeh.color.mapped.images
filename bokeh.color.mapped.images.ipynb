{
 "cells": [
  {
   "cell_type": "code",
   "execution_count": 18,
   "id": "fdde5dc1",
   "metadata": {},
   "outputs": [],
   "source": [
    "import numpy as np\n",
    "\n",
    "from bokeh.plotting import figure, output_file, show"
   ]
  },
  {
   "cell_type": "code",
   "execution_count": 19,
   "id": "eef42f84",
   "metadata": {},
   "outputs": [],
   "source": [
    "output_file(\"image.html\", title=\"image.py example\")"
   ]
  },
  {
   "cell_type": "code",
   "execution_count": 20,
   "id": "d99f6d9e",
   "metadata": {},
   "outputs": [],
   "source": [
    "x = np.linspace(0, 10, 250)\n",
    "y = np.linspace(0, 10, 250)\n",
    "xx, yy = np.meshgrid(x, y)\n",
    "d = np.sin(xx)*np.cos(yy)"
   ]
  },
  {
   "cell_type": "code",
   "execution_count": 30,
   "id": "ce94935c",
   "metadata": {},
   "outputs": [],
   "source": [
    "p = figure(width=400, height=400)\n",
    "p.x_range.range_padding = p.y_range.range_padding = 0"
   ]
  },
  {
   "cell_type": "code",
   "execution_count": 33,
   "id": "9e1c21a2",
   "metadata": {},
   "outputs": [],
   "source": [
    "p.image(image=[d], x=0, y=0, dw=10, dh=10, palette=\"Spectral11\", level=\"image\")\n",
    "p.grid.grid_line_width = 4"
   ]
  },
  {
   "cell_type": "code",
   "execution_count": 34,
   "id": "8f272c1e",
   "metadata": {},
   "outputs": [],
   "source": [
    "show(p)"
   ]
  },
  {
   "cell_type": "code",
   "execution_count": null,
   "id": "c8572255",
   "metadata": {},
   "outputs": [],
   "source": []
  }
 ],
 "metadata": {
  "kernelspec": {
   "display_name": "Python 3 (ipykernel)",
   "language": "python",
   "name": "python3"
  },
  "language_info": {
   "codemirror_mode": {
    "name": "ipython",
    "version": 3
   },
   "file_extension": ".py",
   "mimetype": "text/x-python",
   "name": "python",
   "nbconvert_exporter": "python",
   "pygments_lexer": "ipython3",
   "version": "3.8.7"
  }
 },
 "nbformat": 4,
 "nbformat_minor": 5
}
